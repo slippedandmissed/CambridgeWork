{
 "cells": [
  {
   "cell_type": "code",
   "execution_count": 11,
   "metadata": {},
   "outputs": [],
   "source": [
    "import pickle\n",
    "import numpy as np\n",
    "import matplotlib.pyplot as plt\n",
    "from tqdm import tqdm\n",
    "from sympy.integrals.quadrature import gauss_legendre\n",
    "import itertools\n",
    "import scipy.special\n",
    "import scipy.optimize\n",
    "from IPython.display import display, update_display\n",
    "from custom_types import *\n",
    "from typing import Optional"
   ]
  },
  {
   "cell_type": "code",
   "execution_count": 12,
   "metadata": {},
   "outputs": [
    {
     "name": "stdout",
     "output_type": "stream",
     "text": [
      "Rendering cost field\n"
     ]
    },
    {
     "name": "stderr",
     "output_type": "stream",
     "text": [
      "                                                     \r"
     ]
    },
    {
     "data": {
      "image/png": "[encoded data removed]",
      "text/plain": [
       "<Figure size 500x500 with 1 Axes>"
      ]
     },
     "metadata": {},
     "output_type": "display_data"
    }
   ],
   "source": [
    "def render_instance(\n",
    "  instance: Instance,\n",
    "  resolution: int = 64,\n",
    "  solution: Optional[Solution]=None,\n",
    "  solution_resolution: int = 100,\n",
    "  verbose: bool=True\n",
    ") -> None:\n",
    "  cost, cities = instance\n",
    "\n",
    "  cost_samples = np.empty((resolution, resolution))\n",
    "\n",
    "  if verbose:\n",
    "    print(\"Rendering cost field\")\n",
    "  for v, u in tqdm(itertools.product(range(resolution), range(resolution)), total=resolution*resolution, disable=not verbose, leave=False):\n",
    "    y = v/(resolution-1)\n",
    "    x = u/(resolution-1)\n",
    "    cost_samples[v, u] = max(min(cost.subs(\"x\", x).subs(\"y\", y), 1.6), 0.9)\n",
    "\n",
    "  fig, ax = plt.subplots(figsize=(5, 5))\n",
    "  ax.pcolor(np.linspace(0, 1, resolution), np.linspace(0, 1, resolution), cost_samples, cmap=\"gray\")\n",
    "\n",
    "  for city in cities:\n",
    "    ax.scatter(*city, c=\"red\", edgecolors=\"black\", s=64)\n",
    "  \n",
    "  if solution is not None:\n",
    "    if verbose:\n",
    "      print(\"Rendering solution\")\n",
    "    xs = []\n",
    "    ys = []\n",
    "    ts = np.linspace(0, 1, solution_resolution)\n",
    "    sol_x, sol_y = solution\n",
    "    for t in tqdm(ts, leave=False, disable=not verbose):\n",
    "      xs.append(sol_x.subs(\"t\", t))\n",
    "      ys.append(sol_y.subs(\"t\", t))\n",
    "    \n",
    "    ax.plot(xs, ys, c=\"lime\", lw=2)\n",
    "  \n",
    "  return fig\n",
    "\n",
    "if __name__ == \"__main__\":\n",
    "  with open(\"sample_instances/sample_1.dat\", \"rb\") as fp:\n",
    "    sample = pickle.load(fp)\n",
    "  \n",
    "  render_instance(sample, resolution=64)"
   ]
  },
  {
   "cell_type": "code",
   "execution_count": 13,
   "metadata": {},
   "outputs": [],
   "source": [
    "def lerp(a: float, b: float, t: float) -> float:\n",
    "  return a + (b-a) * t\n",
    "\n",
    "\n",
    "def inv_lerp(a: float, b: float, t: float) -> float:\n",
    "  return (t-a)/(b-a)\n",
    "\n",
    "\n",
    "def curve_from_polygon(vertices: Polygon) -> Solution:\n",
    "  solution_x_conditions = []\n",
    "  solution_y_conditions = []\n",
    "  t = sympy.symbols(\"t\")\n",
    "  num_vertices = len(vertices)\n",
    "  dt = 1/num_vertices\n",
    "  for i, vertex in enumerate(vertices):\n",
    "    t_ = inv_lerp(i*dt, (i+1)*dt, t)\n",
    "    nxt = vertices[(i+1)%num_vertices]\n",
    "    condition = (t <= (i+1)*dt)\n",
    "    solution_x_conditions.append((lerp(vertex[0], nxt[0], t_), condition))\n",
    "    solution_y_conditions.append((lerp(vertex[1], nxt[1], t_), condition))\n",
    "  return (\n",
    "    sympy.Piecewise(*solution_x_conditions, (0, True)),\n",
    "    sympy.Piecewise(*solution_y_conditions, (0, True))\n",
    "  )"
   ]
  },
  {
   "cell_type": "code",
   "execution_count": 14,
   "metadata": {},
   "outputs": [],
   "source": [
    "n=128\n",
    "n_digits=16\n",
    "ts, ws = gauss_legendre(n, n_digits)\n",
    "ts = list(float(t) for t in ts)\n",
    "ws = list(float(w) for w in ws)\n",
    "def evaluate_cost(instance: Instance, solution: Solution, verbose: bool = False, alpha: float = 1) -> float:\n",
    "  cost_func, cities = instance\n",
    "  sol_x, sol_y = solution\n",
    "\n",
    "  dx_dt = sympy.diff(sol_x, \"t\")\n",
    "  dy_dt = sympy.diff(sol_y, \"t\")\n",
    "  cost_at_curve = cost_func.subs(\"x\", sol_x).subs(\"y\", sol_y)\n",
    "  cost_along_curve = cost_at_curve*((dx_dt*dx_dt + dy_dt*dy_dt))\n",
    "\n",
    "  s = 0\n",
    "  for t, w in tqdm(zip(ts, ws), total=n, leave=False, disable=not verbose):\n",
    "    if t < 0:\n",
    "      continue\n",
    "    s += w*cost_along_curve.subs(\"t\", t)\n",
    "  \n",
    "  t = 0\n",
    "  for city in tqdm(cities, leave=False, disable=not verbose):\n",
    "    distance_to_city = ((sol_x-city[0])**2 + (sol_y-city[1])**2)\n",
    "    func = sympy.lambdify(\"t\", distance_to_city)\n",
    "    # func = lambda t: distance_to_city.subs(\"t\", t[0] if type(t) == np.ndarray else t)\n",
    "    tax = scipy.optimize.minimize(func, 0.5, bounds=((0, 1),), options={\"disp\": False})\n",
    "    t += func(tax.x[0])\n",
    "\n",
    "  return s + t*alpha\n"
   ]
  },
  {
   "cell_type": "code",
   "execution_count": 15,
   "metadata": {},
   "outputs": [],
   "source": [
    "# def taylor_polynomial(cost: CostFunction, a: float=0.5, b: float=0.5, n_terms=5, verbose: bool=False) -> CostFunction:\n",
    "#   x, y = sympy.symbols(\"x y\")\n",
    "#   series = 0\n",
    "#   diff_cache = {0: {0: cost}}\n",
    "#   fact_rec = 1\n",
    "#   with tqdm(total=n_terms*(n_terms+1)//2-1, disable=not verbose, leave=False) as pbar:\n",
    "#     for dx in range(n_terms):\n",
    "#       if dx > 0:\n",
    "#         diff_cache[dx] = {0: sympy.diff(diff_cache[dx-1][0], x)}\n",
    "#         pbar.update()\n",
    "#       for dy in range(n_terms-dx):\n",
    "#         if dy > 0:\n",
    "#           diff_cache[dx][dy] = sympy.diff(diff_cache[dx][dy-1], y)\n",
    "#           pbar.update()\n",
    "\n",
    "#   with tqdm(total=n_terms*(n_terms+1)//2, disable=not verbose, leave=False) as pbar:\n",
    "#     for n in range(n_terms):\n",
    "#       fact_rec /= (n+1)\n",
    "#       for i in range(n+1):\n",
    "#         coeff = scipy.special.comb(n, i)\n",
    "#         diff = diff_cache[i][n-i]\n",
    "#         series += fact_rec * coeff * diff.subs(x, a).subs(y, b) * ((x-a)**i) * ((y-b)**(n-i))\n",
    "#         pbar.update()\n",
    "  \n",
    "#   return series"
   ]
  },
  {
   "cell_type": "code",
   "execution_count": 16,
   "metadata": {},
   "outputs": [],
   "source": [
    "# tay = taylor_polynomial(sample[0], n_terms=7, verbose=True)"
   ]
  },
  {
   "cell_type": "code",
   "execution_count": 17,
   "metadata": {},
   "outputs": [],
   "source": [
    "# render_instance((tay, []), resolution=16)"
   ]
  },
  {
   "cell_type": "code",
   "execution_count": 18,
   "metadata": {},
   "outputs": [
    {
     "name": "stdout",
     "output_type": "stream",
     "text": [
      "The line_profiler extension is already loaded. To reload it, use:\n",
      "  %reload_ext line_profiler\n"
     ]
    }
   ],
   "source": [
    "%load_ext line_profiler"
   ]
  },
  {
   "cell_type": "code",
   "execution_count": 19,
   "metadata": {},
   "outputs": [
    {
     "data": {
      "image/png": "[encoded data removed]",
      "text/plain": [
       "<Figure size 500x500 with 1 Axes>"
      ]
     },
     "metadata": {},
     "output_type": "display_data"
    },
    {
     "name": "stdout",
     "output_type": "stream",
     "text": [
      "Iteration 0 - Cost: 47.04013 - Learning rate: 0.10000\n"
     ]
    },
    {
     "name": "stderr",
     "output_type": "stream",
     "text": [
      "100%|██████████| 20/20 [03:27<00:00, 10.36s/it]\n"
     ]
    },
    {
     "name": "stdout",
     "output_type": "stream",
     "text": [
      "Iteration 1 - Cost: 29.03620 - Learning rate: 0.09500\n"
     ]
    },
    {
     "name": "stderr",
     "output_type": "stream",
     "text": [
      "100%|██████████| 20/20 [04:51<00:00, 14.60s/it]\n"
     ]
    },
    {
     "name": "stdout",
     "output_type": "stream",
     "text": [
      "Iteration 2 - Cost: 19.56387 - Learning rate: 0.09025\n"
     ]
    },
    {
     "name": "stderr",
     "output_type": "stream",
     "text": [
      "100%|██████████| 20/20 [05:01<00:00, 15.05s/it]\n"
     ]
    },
    {
     "name": "stdout",
     "output_type": "stream",
     "text": [
      "Iteration 3 - Cost: 15.91558 - Learning rate: 0.08574\n"
     ]
    },
    {
     "name": "stderr",
     "output_type": "stream",
     "text": [
      "100%|██████████| 20/20 [05:05<00:00, 15.26s/it]\n"
     ]
    },
    {
     "name": "stdout",
     "output_type": "stream",
     "text": [
      "Iteration 4 - Cost: 12.89364 - Learning rate: 0.08145\n"
     ]
    },
    {
     "name": "stderr",
     "output_type": "stream",
     "text": [
      "100%|██████████| 20/20 [04:54<00:00, 14.74s/it]\n"
     ]
    },
    {
     "name": "stdout",
     "output_type": "stream",
     "text": [
      "Iteration 5 - Cost: 12.09189 - Learning rate: 0.07738\n"
     ]
    },
    {
     "name": "stderr",
     "output_type": "stream",
     "text": [
      "100%|██████████| 20/20 [05:05<00:00, 15.29s/it]\n"
     ]
    },
    {
     "name": "stdout",
     "output_type": "stream",
     "text": [
      "Iteration 6 - Cost: 11.25169 - Learning rate: 0.07351\n"
     ]
    },
    {
     "name": "stderr",
     "output_type": "stream",
     "text": [
      "100%|██████████| 20/20 [05:24<00:00, 16.24s/it]\n"
     ]
    },
    {
     "name": "stdout",
     "output_type": "stream",
     "text": [
      "Iteration 7 - Cost: 10.47398 - Learning rate: 0.06983\n"
     ]
    },
    {
     "name": "stderr",
     "output_type": "stream",
     "text": [
      "100%|██████████| 20/20 [05:15<00:00, 15.77s/it]\n"
     ]
    },
    {
     "name": "stdout",
     "output_type": "stream",
     "text": [
      "Iteration 8 - Cost: 10.18772 - Learning rate: 0.06634\n"
     ]
    },
    {
     "name": "stderr",
     "output_type": "stream",
     "text": [
      "100%|██████████| 20/20 [05:19<00:00, 15.95s/it]\n"
     ]
    },
    {
     "name": "stdout",
     "output_type": "stream",
     "text": [
      "Iteration 9 - Cost: 9.73584 - Learning rate: 0.06302\n"
     ]
    },
    {
     "name": "stderr",
     "output_type": "stream",
     "text": [
      "100%|██████████| 20/20 [06:02<00:00, 18.13s/it]\n"
     ]
    },
    {
     "name": "stdout",
     "output_type": "stream",
     "text": [
      "Iteration 10 - Cost: 9.32108 - Learning rate: 0.05987\n"
     ]
    },
    {
     "name": "stderr",
     "output_type": "stream",
     "text": [
      "100%|██████████| 20/20 [06:14<00:00, 18.72s/it]\n"
     ]
    },
    {
     "name": "stdout",
     "output_type": "stream",
     "text": [
      "Iteration 11 - Cost: 9.28133 - Learning rate: 0.05688\n"
     ]
    },
    {
     "name": "stderr",
     "output_type": "stream",
     "text": [
      "100%|██████████| 20/20 [06:26<00:00, 19.30s/it]\n"
     ]
    },
    {
     "name": "stdout",
     "output_type": "stream",
     "text": [
      "Iteration 12 - Cost: 9.27605 - Learning rate: 0.05404\n"
     ]
    },
    {
     "name": "stderr",
     "output_type": "stream",
     "text": [
      "100%|██████████| 20/20 [06:19<00:00, 18.97s/it]\n"
     ]
    },
    {
     "name": "stdout",
     "output_type": "stream",
     "text": [
      "Iteration 13 - Cost: 9.11188 - Learning rate: 0.05133\n"
     ]
    },
    {
     "name": "stderr",
     "output_type": "stream",
     "text": [
      "100%|██████████| 20/20 [05:58<00:00, 17.93s/it]\n"
     ]
    },
    {
     "name": "stdout",
     "output_type": "stream",
     "text": [
      "Iteration 14 - Cost: 9.09011 - Learning rate: 0.04877\n"
     ]
    },
    {
     "name": "stderr",
     "output_type": "stream",
     "text": [
      "100%|██████████| 20/20 [06:08<00:00, 18.44s/it]\n"
     ]
    },
    {
     "name": "stdout",
     "output_type": "stream",
     "text": [
      "Iteration 15 - Cost: 9.03881 - Learning rate: 0.04633\n"
     ]
    },
    {
     "name": "stderr",
     "output_type": "stream",
     "text": [
      "100%|██████████| 20/20 [05:55<00:00, 17.77s/it]\n"
     ]
    },
    {
     "name": "stdout",
     "output_type": "stream",
     "text": [
      "Iteration 16 - Cost: 8.80979 - Learning rate: 0.04401\n"
     ]
    },
    {
     "name": "stderr",
     "output_type": "stream",
     "text": [
      "100%|██████████| 20/20 [05:30<00:00, 16.52s/it]\n"
     ]
    },
    {
     "name": "stdout",
     "output_type": "stream",
     "text": [
      "Iteration 17 - Cost: 8.79468 - Learning rate: 0.04181\n"
     ]
    },
    {
     "name": "stderr",
     "output_type": "stream",
     "text": [
      "100%|██████████| 20/20 [05:56<00:00, 17.84s/it]\n"
     ]
    },
    {
     "name": "stdout",
     "output_type": "stream",
     "text": [
      "Iteration 18 - Cost: 8.72891 - Learning rate: 0.03972\n"
     ]
    },
    {
     "name": "stderr",
     "output_type": "stream",
     "text": [
      "100%|██████████| 20/20 [06:21<00:00, 19.07s/it]\n"
     ]
    },
    {
     "name": "stdout",
     "output_type": "stream",
     "text": [
      "Iteration 19 - Cost: 8.69244 - Learning rate: 0.03774\n"
     ]
    },
    {
     "name": "stderr",
     "output_type": "stream",
     "text": [
      "100%|██████████| 20/20 [06:43<00:00, 20.20s/it]\n"
     ]
    },
    {
     "name": "stdout",
     "output_type": "stream",
     "text": [
      "Iteration 20 - Cost: 8.68880 - Learning rate: 0.03585\n"
     ]
    },
    {
     "name": "stderr",
     "output_type": "stream",
     "text": [
      "100%|██████████| 20/20 [06:47<00:00, 20.38s/it]\n"
     ]
    },
    {
     "name": "stdout",
     "output_type": "stream",
     "text": [
      "Iteration 21 - Cost: 8.65661 - Learning rate: 0.03406\n"
     ]
    },
    {
     "name": "stderr",
     "output_type": "stream",
     "text": [
      "100%|██████████| 20/20 [06:44<00:00, 20.23s/it]\n"
     ]
    },
    {
     "name": "stdout",
     "output_type": "stream",
     "text": [
      "Iteration 22 - Cost: 8.55067 - Learning rate: 0.03235\n"
     ]
    },
    {
     "name": "stderr",
     "output_type": "stream",
     "text": [
      "100%|██████████| 20/20 [06:09<00:00, 18.45s/it]\n"
     ]
    },
    {
     "name": "stdout",
     "output_type": "stream",
     "text": [
      "Iteration 23 - Cost: 8.54075 - Learning rate: 0.03074\n"
     ]
    },
    {
     "name": "stderr",
     "output_type": "stream",
     "text": [
      "100%|██████████| 20/20 [06:17<00:00, 18.85s/it]\n"
     ]
    },
    {
     "name": "stdout",
     "output_type": "stream",
     "text": [
      "Iteration 24 - Cost: 8.53808 - Learning rate: 0.02920\n"
     ]
    },
    {
     "name": "stderr",
     "output_type": "stream",
     "text": [
      "100%|██████████| 20/20 [05:38<00:00, 16.93s/it]\n"
     ]
    },
    {
     "name": "stdout",
     "output_type": "stream",
     "text": [
      "Iteration 25 - Cost: 8.51774 - Learning rate: 0.02774\n"
     ]
    },
    {
     "name": "stderr",
     "output_type": "stream",
     "text": [
      "100%|██████████| 20/20 [05:24<00:00, 16.20s/it]\n"
     ]
    },
    {
     "name": "stdout",
     "output_type": "stream",
     "text": [
      "Iteration 26 - Cost: 8.51594 - Learning rate: 0.02635\n"
     ]
    },
    {
     "name": "stderr",
     "output_type": "stream",
     "text": [
      "100%|██████████| 20/20 [05:34<00:00, 16.72s/it]\n"
     ]
    },
    {
     "name": "stdout",
     "output_type": "stream",
     "text": [
      "Iteration 27 - Cost: 8.50269 - Learning rate: 0.02503\n"
     ]
    },
    {
     "name": "stderr",
     "output_type": "stream",
     "text": [
      "100%|██████████| 20/20 [09:51<00:00, 29.58s/it]\n"
     ]
    },
    {
     "name": "stdout",
     "output_type": "stream",
     "text": [
      "Iteration 28 - Cost: 8.47989 - Learning rate: 0.02378\n"
     ]
    },
    {
     "name": "stderr",
     "output_type": "stream",
     "text": [
      "100%|██████████| 20/20 [05:43<00:00, 17.17s/it]\n"
     ]
    },
    {
     "name": "stdout",
     "output_type": "stream",
     "text": [
      "Iteration 29 - Cost: 8.47378 - Learning rate: 0.02259\n"
     ]
    },
    {
     "name": "stderr",
     "output_type": "stream",
     "text": [
      "100%|██████████| 20/20 [06:02<00:00, 18.11s/it]\n"
     ]
    },
    {
     "name": "stdout",
     "output_type": "stream",
     "text": [
      "Iteration 30 - Cost: 8.44499 - Learning rate: 0.02146\n"
     ]
    },
    {
     "name": "stderr",
     "output_type": "stream",
     "text": [
      "100%|██████████| 20/20 [06:19<00:00, 18.95s/it]\n"
     ]
    },
    {
     "name": "stdout",
     "output_type": "stream",
     "text": [
      "Iteration 31 - Cost: 8.44054 - Learning rate: 0.02039\n"
     ]
    },
    {
     "name": "stderr",
     "output_type": "stream",
     "text": [
      "100%|██████████| 20/20 [06:15<00:00, 18.78s/it]\n"
     ]
    },
    {
     "name": "stdout",
     "output_type": "stream",
     "text": [
      "Iteration 32 - Cost: 8.43355 - Learning rate: 0.01937\n"
     ]
    },
    {
     "name": "stderr",
     "output_type": "stream",
     "text": [
      "100%|██████████| 20/20 [05:55<00:00, 17.80s/it]\n"
     ]
    },
    {
     "name": "stdout",
     "output_type": "stream",
     "text": [
      "Iteration 33 - Cost: 8.42398 - Learning rate: 0.01840\n"
     ]
    },
    {
     "name": "stderr",
     "output_type": "stream",
     "text": [
      "100%|██████████| 20/20 [05:43<00:00, 17.17s/it]\n"
     ]
    },
    {
     "name": "stdout",
     "output_type": "stream",
     "text": [
      "Iteration 34 - Cost: 8.42078 - Learning rate: 0.01748\n"
     ]
    },
    {
     "name": "stderr",
     "output_type": "stream",
     "text": [
      "100%|██████████| 20/20 [42:44<00:00, 128.21s/it]\n"
     ]
    },
    {
     "name": "stdout",
     "output_type": "stream",
     "text": [
      "Iteration 35 - Cost: 8.41689 - Learning rate: 0.01661\n"
     ]
    },
    {
     "name": "stderr",
     "output_type": "stream",
     "text": [
      "100%|██████████| 20/20 [08:04<00:00, 24.20s/it]\n"
     ]
    },
    {
     "name": "stdout",
     "output_type": "stream",
     "text": [
      "Iteration 36 - Cost: 8.41511 - Learning rate: 0.01578\n"
     ]
    },
    {
     "name": "stderr",
     "output_type": "stream",
     "text": [
      "100%|██████████| 20/20 [06:31<00:00, 19.60s/it]\n"
     ]
    },
    {
     "name": "stdout",
     "output_type": "stream",
     "text": [
      "Iteration 37 - Cost: 8.41337 - Learning rate: 0.01499\n"
     ]
    },
    {
     "name": "stderr",
     "output_type": "stream",
     "text": [
      "100%|██████████| 20/20 [05:54<00:00, 17.73s/it]\n"
     ]
    },
    {
     "name": "stdout",
     "output_type": "stream",
     "text": [
      "Iteration 38 - Cost: 8.40718 - Learning rate: 0.01424\n"
     ]
    },
    {
     "name": "stderr",
     "output_type": "stream",
     "text": [
      "100%|██████████| 20/20 [05:48<00:00, 17.44s/it]\n"
     ]
    },
    {
     "name": "stdout",
     "output_type": "stream",
     "text": [
      "Iteration 39 - Cost: 8.40223 - Learning rate: 0.01353\n"
     ]
    },
    {
     "name": "stderr",
     "output_type": "stream",
     "text": [
      "100%|██████████| 20/20 [05:42<00:00, 17.11s/it]\n"
     ]
    },
    {
     "name": "stdout",
     "output_type": "stream",
     "text": [
      "Iteration 40 - Cost: 8.39943 - Learning rate: 0.01285\n"
     ]
    },
    {
     "name": "stderr",
     "output_type": "stream",
     "text": [
      "100%|██████████| 20/20 [05:57<00:00, 17.89s/it]\n"
     ]
    },
    {
     "name": "stdout",
     "output_type": "stream",
     "text": [
      "Iteration 41 - Cost: 8.39539 - Learning rate: 0.01221\n"
     ]
    },
    {
     "name": "stderr",
     "output_type": "stream",
     "text": [
      "100%|██████████| 20/20 [05:47<00:00, 17.39s/it]\n"
     ]
    },
    {
     "name": "stdout",
     "output_type": "stream",
     "text": [
      "Iteration 42 - Cost: 8.38971 - Learning rate: 0.01160\n"
     ]
    },
    {
     "name": "stderr",
     "output_type": "stream",
     "text": [
      "100%|██████████| 20/20 [05:59<00:00, 17.99s/it]\n"
     ]
    },
    {
     "name": "stdout",
     "output_type": "stream",
     "text": [
      "Iteration 43 - Cost: 8.38788 - Learning rate: 0.01102\n"
     ]
    },
    {
     "name": "stderr",
     "output_type": "stream",
     "text": [
      "100%|██████████| 20/20 [05:56<00:00, 17.81s/it]\n"
     ]
    },
    {
     "name": "stdout",
     "output_type": "stream",
     "text": [
      "Iteration 44 - Cost: 8.38596 - Learning rate: 0.01047\n"
     ]
    },
    {
     "name": "stderr",
     "output_type": "stream",
     "text": [
      "100%|██████████| 20/20 [05:44<00:00, 17.22s/it]\n"
     ]
    },
    {
     "name": "stdout",
     "output_type": "stream",
     "text": [
      "Iteration 45 - Cost: 8.38001 - Learning rate: 0.00994\n"
     ]
    },
    {
     "name": "stderr",
     "output_type": "stream",
     "text": [
      "100%|██████████| 20/20 [05:45<00:00, 17.26s/it]\n"
     ]
    },
    {
     "name": "stdout",
     "output_type": "stream",
     "text": [
      "Iteration 46 - Cost: 8.37872 - Learning rate: 0.00945\n"
     ]
    },
    {
     "name": "stderr",
     "output_type": "stream",
     "text": [
      "100%|██████████| 20/20 [07:20<00:00, 22.01s/it]\n"
     ]
    },
    {
     "name": "stdout",
     "output_type": "stream",
     "text": [
      "Iteration 47 - Cost: 8.37482 - Learning rate: 0.00897\n"
     ]
    },
    {
     "name": "stderr",
     "output_type": "stream",
     "text": [
      "100%|██████████| 20/20 [06:21<00:00, 19.08s/it]\n"
     ]
    },
    {
     "name": "stdout",
     "output_type": "stream",
     "text": [
      "Iteration 48 - Cost: 8.37232 - Learning rate: 0.00853\n"
     ]
    },
    {
     "name": "stderr",
     "output_type": "stream",
     "text": [
      "100%|██████████| 20/20 [07:20<00:00, 22.01s/it]\n"
     ]
    },
    {
     "name": "stdout",
     "output_type": "stream",
     "text": [
      "Iteration 49 - Cost: 8.36950 - Learning rate: 0.00810\n"
     ]
    },
    {
     "name": "stderr",
     "output_type": "stream",
     "text": [
      "100%|██████████| 20/20 [05:47<00:00, 17.39s/it]\n"
     ]
    },
    {
     "name": "stdout",
     "output_type": "stream",
     "text": [
      "Iteration 50 - Cost: 8.36945 - Learning rate: 0.00769\n"
     ]
    },
    {
     "name": "stderr",
     "output_type": "stream",
     "text": [
      "100%|██████████| 20/20 [05:50<00:00, 17.54s/it]\n"
     ]
    },
    {
     "name": "stdout",
     "output_type": "stream",
     "text": [
      "Got solution\n"
     ]
    },
    {
     "name": "stderr",
     "output_type": "stream",
     "text": [
      "                                                 \r"
     ]
    },
    {
     "name": "stdout",
     "output_type": "stream",
     "text": [
      "Cost = 8.36926\n",
      "Rendering cost field\n"
     ]
    },
    {
     "name": "stderr",
     "output_type": "stream",
     "text": [
      "                                                      \r"
     ]
    },
    {
     "name": "stdout",
     "output_type": "stream",
     "text": [
      "Rendering solution\n"
     ]
    },
    {
     "name": "stderr",
     "output_type": "stream",
     "text": [
      "                                                 \r"
     ]
    },
    {
     "data": {
      "image/png": "[encoded data removed]",
      "text/plain": [
       "<Figure size 500x500 with 1 Axes>"
      ]
     },
     "metadata": {},
     "output_type": "display_data"
    },
    {
     "name": "stdout",
     "output_type": "stream",
     "text": [
      "Timer unit: 1e-09 s\n",
      "\n",
      "Total time: 20237.1 s\n",
      "File: /tmp/ipykernel_35179/1740203173.py\n",
      "Function: polygon_hill_climbing at line 1\n",
      "\n",
      "Line #      Hits         Time  Per Hit   % Time  Line Contents\n",
      "==============================================================\n",
      "     1                                           def polygon_hill_climbing(instance: Instance, verbose: bool = False) -> Solution:\n",
      "     2         1       1700.0   1700.0      0.0    cost_func, cities = instance\n",
      "     3                                           \n",
      "     4         1        200.0    200.0      0.0    learning_rate = 0.1\n",
      "     5                                             \n",
      "     6         1        100.0    100.0      0.0    n = 20\n",
      "     7         1      92800.0  92800.0      0.0    angles = np.linspace(0, 2*np.pi, n, endpoint=False)\n",
      "     8         1       2300.0   2300.0      0.0    vertices = np.empty((n, 2))\n",
      "     9         1      30700.0  30700.0      0.0    vertices[:, 0] = np.maximum(0, np.minimum(1, 2 * np.cos(angles) + 0.5))\n",
      "    10         1      20800.0  20800.0      0.0    vertices[:, 1] = np.maximum(0, np.minimum(1, 2 * np.sin(angles) + 0.5))\n",
      "    11                                           \n",
      "    12         1  905745000.0 905745000.0      0.0    cost = evaluate_cost(instance, curve_from_polygon(list(tuple(x) for x in vertices)), alpha=10)\n",
      "    13         1   30334200.0 30334200.0      0.0    yield curve_from_polygon(list(tuple(x) for x in vertices))\n",
      "    14                                             # df_dx = sympy.diff(cost_func, \"x\")\n",
      "    15                                             # df_dy = sympy.diff(cost_func, \"y\")\n",
      "    16                                           \n",
      "    17         1       1400.0   1400.0      0.0    it = 0\n",
      "    18         1        200.0    200.0      0.0    changed = True\n",
      "    19        51      28600.0    560.8      0.0    while changed:\n",
      "    20        51      11700.0    229.4      0.0      if verbose:\n",
      "    21        51    6343100.0 124374.5      0.0        print(f\"Iteration {it} - Cost: {cost:.5f} - Learning rate: {learning_rate:.5f}\")\n",
      "    22        51      24500.0    480.4      0.0      changed = False\n",
      "    23      1020 1041363700.0 1020944.8      0.0      for i in tqdm(range(n), disable=not verbose):\n",
      "    24      1020    9685000.0   9495.1      0.0        x, y = vertices[i]\n",
      "    25      1020   89325400.0  87573.9      0.0        angles = np.linspace(0, 2*np.pi, 8, endpoint=False)\n",
      "    26      1020     415700.0    407.5      0.0        min_cost = cost\n",
      "    27      1020     218500.0    214.2      0.0        min_cost_idx = None\n",
      "    28      8160   17747300.0   2174.9      0.0        for idx, angle in enumerate(angles):\n",
      "    29                                                   # df_dx_ = df_dx.subs(\"x\", x).subs(\"y\", y)\n",
      "    30                                                   # df_dy_ = df_dy.subs(\"x\", x).subs(\"y\", y)\n",
      "    31      8160  141408700.0  17329.5      0.0          vertices[i][0] = np.maximum(0, np.minimum(1, x - np.cos(angle) * learning_rate))\n",
      "    32      8160   56410900.0   6913.1      0.0          vertices[i][1] = np.maximum(0, np.minimum(1, y - np.sin(angle) * learning_rate))\n",
      "    33      8160 557124533200.0 68275065.3      2.8          poly = curve_from_polygon(list(tuple(x) for x in vertices))\n",
      "    34      8160 19677364218400.0 2411441693.4     97.2          new_cost = evaluate_cost(instance, poly, alpha=10)\n",
      "    35      7797  218893200.0  28074.0      0.0          if new_cost < min_cost:\n",
      "    36       363     179500.0    494.5      0.0            min_cost = new_cost\n",
      "    37       363      66700.0    183.7      0.0            min_cost_idx = idx\n",
      "    38       363      67200.0    185.1      0.0            yield poly\n",
      "    39                                                 \n",
      "    40       765     302900.0    395.9      0.0        if min_cost_idx is not None:\n",
      "    41       255     369500.0   1449.0      0.0          angle = angles[min_cost_idx]\n",
      "    42       255    5448200.0  21365.5      0.0          vertices[i][0] = np.maximum(0, np.minimum(1, x - np.cos(angle) * learning_rate))\n",
      "    43       255    1665900.0   6532.9      0.0          vertices[i][1] = np.maximum(0, np.minimum(1, y - np.sin(angle) * learning_rate))\n",
      "    44       255     551500.0   2162.7      0.0          cost = min_cost\n",
      "    45       255     166500.0    652.9      0.0          changed = True\n",
      "    46                                                 else:\n",
      "    47       765    1776100.0   2321.7      0.0          vertices[i][0] = x\n",
      "    48       765     637700.0    833.6      0.0          vertices[i][1] = y\n",
      "    49                                                   \n",
      "    50        51      37700.0    739.2      0.0      it += 1\n",
      "    51        51      28700.0    562.7      0.0      learning_rate *= 0.95\n",
      "    52        50      19500.0    390.0      0.0      if it > 50:\n",
      "    53         1        200.0    200.0      0.0        break\n",
      "    54                                             \n",
      "    55         1   57244400.0 57244400.0      0.0    yield curve_from_polygon(list(tuple(x) for x in vertices))\n",
      "\n",
      "Total time: 555.481 s\n",
      "File: /tmp/ipykernel_35179/207340406.py\n",
      "Function: curve_from_polygon at line 9\n",
      "\n",
      "Line #      Hits         Time  Per Hit   % Time  Line Contents\n",
      "==============================================================\n",
      "     9                                           def curve_from_polygon(vertices: Polygon) -> Solution:\n",
      "    10      8163    5554600.0    680.5      0.0    solution_x_conditions = []\n",
      "    11      8163    2158500.0    264.4      0.0    solution_y_conditions = []\n",
      "    12      8163  277880800.0  34041.5      0.1    t = sympy.symbols(\"t\")\n",
      "    13      8163    3241500.0    397.1      0.0    num_vertices = len(vertices)\n",
      "    14      8163    4471900.0    547.8      0.0    dt = 1/num_vertices\n",
      "    15    163260  167587100.0   1026.5      0.0    for i, vertex in enumerate(vertices):\n",
      "    16    163260 156243552600.0 957022.9     28.1      t_ = inv_lerp(i*dt, (i+1)*dt, t)\n",
      "    17    163260  160634700.0    983.9      0.0      nxt = vertices[(i+1)%num_vertices]\n",
      "    18    163260 14729493300.0  90221.1      2.7      condition = (t <= (i+1)*dt)\n",
      "    19    163260 160285902100.0 981783.1     28.9      solution_x_conditions.append((lerp(vertex[0], nxt[0], t_), condition))\n",
      "    20    163260 158788155600.0 972609.1     28.6      solution_y_conditions.append((lerp(vertex[1], nxt[1], t_), condition))\n",
      "    21      8163    4922100.0    603.0      0.0    return (\n",
      "    22      8163 33293408600.0 4078575.1      6.0      sympy.Piecewise(*solution_x_conditions, (0, True)),\n",
      "    23      8163 31514132900.0 3860606.7      5.7      sympy.Piecewise(*solution_y_conditions, (0, True))\n",
      "    24                                             )\n",
      "\n",
      "Total time: 19672 s\n",
      "File: /tmp/ipykernel_35179/934339869.py\n",
      "Function: evaluate_cost at line 6\n",
      "\n",
      "Line #      Hits         Time  Per Hit   % Time  Line Contents\n",
      "==============================================================\n",
      "     6                                           def evaluate_cost(instance: Instance, solution: Solution, verbose: bool = False, alpha: float = 1) -> float:\n",
      "     7      8162    7768700.0    951.8      0.0    cost_func, cities = instance\n",
      "     8      8162    2170000.0    265.9      0.0    sol_x, sol_y = solution\n",
      "     9                                           \n",
      "    10      8162 81498456300.0 9985108.6      0.4    dx_dt = sympy.diff(sol_x, \"t\")\n",
      "    11      8162 71066784400.0 8707030.7      0.4    dy_dt = sympy.diff(sol_y, \"t\")\n",
      "    12      8162 416619324200.0 51043779.0      2.1    cost_at_curve = cost_func.subs(\"x\", sol_x).subs(\"y\", sol_y)\n",
      "    13      8162 123652424500.0 15149770.2      0.6    cost_along_curve = cost_at_curve*((dx_dt*dx_dt + dy_dt*dy_dt))\n",
      "    14                                           \n",
      "    15      8162    7136500.0    874.4      0.0    s = 0\n",
      "    16   1044736 2935434100.0   2809.7      0.0    for t, w in tqdm(zip(ts, ws), total=n, leave=False, disable=not verbose):\n",
      "    17    522368  268994000.0    515.0      0.0      if t < 0:\n",
      "    18    522368   58233900.0    111.5      0.0        continue\n",
      "    19    522368 4792480568600.0 9174529.4     24.4      s += w*cost_along_curve.subs(\"t\", t)\n",
      "    20                                             \n",
      "    21      8162    3130200.0    383.5      0.0    t = 0\n",
      "    22    179564 1231406200.0   6857.8      0.0    for city in tqdm(cities, leave=False, disable=not verbose):\n",
      "    23    179564 208325596400.0 1160174.6      1.1      distance_to_city = ((sol_x-city[0])**2 + (sol_y-city[1])**2)\n",
      "    24    179564 5470428009500.0 30465059.9     27.8      func = sympy.lambdify(\"t\", distance_to_city)\n",
      "    25                                               # func = lambda t: distance_to_city.subs(\"t\", t[0] if type(t) == np.ndarray else t)\n",
      "    26    179564 8448738308400.0 47051404.0     42.9      tax = scipy.optimize.minimize(func, 0.5, bounds=((0, 1),), options={\"disp\": False})\n",
      "    27    179564 53109459600.0 295769.0      0.3      t += func(tax.x[0])\n",
      "    28                                           \n",
      "    29      8162 1551890700.0 190136.1      0.0    return s + t*alpha"
     ]
    }
   ],
   "source": [
    "def polygon_hill_climbing(instance: Instance, verbose: bool = False) -> Solution:\n",
    "  cost_func, cities = instance\n",
    "\n",
    "  learning_rate = 0.1\n",
    "  \n",
    "  n = 20\n",
    "  angles = np.linspace(0, 2*np.pi, n, endpoint=False)\n",
    "  vertices = np.empty((n, 2))\n",
    "  vertices[:, 0] = np.maximum(0, np.minimum(1, 2 * np.cos(angles) + 0.5))\n",
    "  vertices[:, 1] = np.maximum(0, np.minimum(1, 2 * np.sin(angles) + 0.5))\n",
    "\n",
    "  cost = evaluate_cost(instance, curve_from_polygon(list(tuple(x) for x in vertices)), alpha=10)\n",
    "  yield curve_from_polygon(list(tuple(x) for x in vertices))\n",
    "  # df_dx = sympy.diff(cost_func, \"x\")\n",
    "  # df_dy = sympy.diff(cost_func, \"y\")\n",
    "\n",
    "  it = 0\n",
    "  changed = True\n",
    "  while changed:\n",
    "    if verbose:\n",
    "      print(f\"Iteration {it} - Cost: {cost:.5f} - Learning rate: {learning_rate:.5f}\")\n",
    "    changed = False\n",
    "    for i in tqdm(range(n), disable=not verbose):\n",
    "      x, y = vertices[i]\n",
    "      angles = np.linspace(0, 2*np.pi, 8, endpoint=False)\n",
    "      min_cost = cost\n",
    "      min_cost_idx = None\n",
    "      for idx, angle in enumerate(angles):\n",
    "        # df_dx_ = df_dx.subs(\"x\", x).subs(\"y\", y)\n",
    "        # df_dy_ = df_dy.subs(\"x\", x).subs(\"y\", y)\n",
    "        vertices[i][0] = np.maximum(0, np.minimum(1, x - np.cos(angle) * learning_rate))\n",
    "        vertices[i][1] = np.maximum(0, np.minimum(1, y - np.sin(angle) * learning_rate))\n",
    "        poly = curve_from_polygon(list(tuple(x) for x in vertices))\n",
    "        new_cost = evaluate_cost(instance, poly, alpha=10)\n",
    "        if new_cost < min_cost:\n",
    "          min_cost = new_cost\n",
    "          min_cost_idx = idx\n",
    "          yield poly\n",
    "      \n",
    "      if min_cost_idx is not None:\n",
    "        angle = angles[min_cost_idx]\n",
    "        vertices[i][0] = np.maximum(0, np.minimum(1, x - np.cos(angle) * learning_rate))\n",
    "        vertices[i][1] = np.maximum(0, np.minimum(1, y - np.sin(angle) * learning_rate))\n",
    "        cost = min_cost\n",
    "        changed = True\n",
    "      else:\n",
    "        vertices[i][0] = x\n",
    "        vertices[i][1] = y\n",
    "        \n",
    "    it += 1\n",
    "    learning_rate *= 0.95\n",
    "    if it > 50:\n",
    "      break\n",
    "  \n",
    "  yield curve_from_polygon(list(tuple(x) for x in vertices))\n",
    "\n",
    "if __name__ == \"__main__\":\n",
    "  def main():\n",
    "    fig = render_instance(sample, resolution=16, verbose=False)\n",
    "    display(fig, display_id=\"plot\")\n",
    "    for solution in polygon_hill_climbing(sample, verbose=True):\n",
    "      plt.close()\n",
    "      fig = render_instance(sample, resolution=16, solution=solution, verbose=False)\n",
    "      update_display(fig, display_id=\"plot\")\n",
    "    plt.close()\n",
    "\n",
    "    print(\"Got solution\")\n",
    "    cost = evaluate_cost(sample, solution, verbose=True, alpha=10)\n",
    "\n",
    "    print(f\"Cost = {cost:.5f}\")\n",
    "\n",
    "    render_instance(sample, resolution=256, solution=solution)\n",
    "  \n",
    "  try:\n",
    "    %lprun -f polygon_hill_climbing -f curve_from_polygon -f evaluate_cost main()\n",
    "    # main()\n",
    "  except KeyboardInterrupt:\n",
    "    pass"
   ]
  }
 ],
 "metadata": {
  "kernelspec": {
   "display_name": "Python 3 (ipykernel)",
   "language": "python",
   "name": "python3"
  },
  "language_info": {
   "codemirror_mode": {
    "name": "ipython",
    "version": 3
   },
   "file_extension": ".py",
   "mimetype": "text/x-python",
   "name": "python",
   "nbconvert_exporter": "python",
   "pygments_lexer": "ipython3",
   "version": "3.11.1 (main, Dec  7 2022, 01:11:44) [GCC 9.4.0]"
  },
  "vscode": {
   "interpreter": {
    "hash": "ca3ed784184f1b3bb7c3539bfb45e71710cd27667424f92c2d5bb4df9c107c23"
   }
  }
 },
 "nbformat": 4,
 "nbformat_minor": 2
}
