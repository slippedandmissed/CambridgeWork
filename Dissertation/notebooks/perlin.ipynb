{
 "cells": [
  {
   "cell_type": "code",
   "execution_count": 3,
   "metadata": {},
   "outputs": [],
   "source": [
    "import matplotlib.pyplot as plt\n",
    "import sympy\n",
    "import numpy as np\n",
    "import itertools\n",
    "from tqdm import tqdm"
   ]
  },
  {
   "cell_type": "code",
   "execution_count": 4,
   "metadata": {},
   "outputs": [
    {
     "name": "stderr",
     "output_type": "stream",
     "text": [
      "                                                    \r"
     ]
    },
    {
     "data": {
      "image/png": "[encoded data removed]",
      "text/plain": [
       "<Figure size 500x500 with 1 Axes>"
      ]
     },
     "metadata": {},
     "output_type": "display_data"
    }
   ],
   "source": [
    "def noise2d(\n",
    "  min_x: float,\n",
    "  max_x: float,\n",
    "  min_y: float,\n",
    "  max_y: float,\n",
    "  seed: int,\n",
    "  x: float,\n",
    "  y: float,\n",
    ") -> float:\n",
    "  np.random.seed(seed)\n",
    "  min_x = int(min_x)\n",
    "  max_x = int(np.ceil(max_x))\n",
    "  min_y = int(min_y)\n",
    "  max_y = int(np.ceil(max_y))\n",
    "  thetas = np.random.uniform(0, 2*np.pi, size=(max_y-min_y+1, max_x-min_x+1))\n",
    "  gradient_x = np.cos(thetas)\n",
    "  gradient_y = np.sin(thetas)\n",
    "  \n",
    "  x0y0_grad_x_conditions = []\n",
    "  x0y0_grad_y_conditions = []\n",
    "  x0y1_grad_x_conditions = []\n",
    "  x0y1_grad_y_conditions = []\n",
    "  x1y0_grad_x_conditions = []\n",
    "  x1y0_grad_y_conditions = []\n",
    "  x1y1_grad_x_conditions = []\n",
    "  x1y1_grad_y_conditions = []\n",
    "\n",
    "  x0_conditions = []\n",
    "  y0_conditions = []\n",
    "  for y_ in range(min_y, max_y):\n",
    "    for x_ in range(min_x, max_x):\n",
    "      condition = (x <= x_+1) & (y <= y_+1)\n",
    "      x0y0_grad_x_conditions.append((gradient_x[y_  , x_  ], condition))\n",
    "      x0y0_grad_y_conditions.append((gradient_y[y_  , x_  ], condition))\n",
    "      x0y1_grad_x_conditions.append((gradient_x[y_+1, x_  ], condition))\n",
    "      x0y1_grad_y_conditions.append((gradient_y[y_+1, x_  ], condition))\n",
    "      x1y0_grad_x_conditions.append((gradient_x[y_  , x_+1], condition))\n",
    "      x1y0_grad_y_conditions.append((gradient_y[y_  , x_+1], condition))\n",
    "      x1y1_grad_x_conditions.append((gradient_x[y_+1, x_+1], condition))\n",
    "      x1y1_grad_y_conditions.append((gradient_y[y_+1, x_+1], condition))\n",
    "\n",
    "      x0_conditions.append((x_, condition))\n",
    "      y0_conditions.append((y_, condition))\n",
    "  \n",
    "  x0y0_grad_x = sympy.Piecewise(*x0y0_grad_x_conditions)\n",
    "  x0y0_grad_y = sympy.Piecewise(*x0y0_grad_y_conditions)\n",
    "  x0y1_grad_x = sympy.Piecewise(*x0y1_grad_x_conditions)\n",
    "  x0y1_grad_y = sympy.Piecewise(*x0y1_grad_y_conditions)\n",
    "  x1y0_grad_x = sympy.Piecewise(*x1y0_grad_x_conditions)\n",
    "  x1y0_grad_y = sympy.Piecewise(*x1y0_grad_y_conditions)\n",
    "  x1y1_grad_x = sympy.Piecewise(*x1y1_grad_x_conditions)\n",
    "  x1y1_grad_y = sympy.Piecewise(*x1y1_grad_y_conditions)\n",
    "\n",
    "  x0 = sympy.Piecewise(*x0_conditions)\n",
    "  y0 = sympy.Piecewise(*y0_conditions)\n",
    "  x1 = x0 + 1\n",
    "  y1 = y0 + 1\n",
    "\n",
    "  def dot_grid_gradient(ix, iy, x, y, grad_x, grad_y):\n",
    "    dx = x - ix\n",
    "    dy = y - iy\n",
    "    return dx*grad_x + dy*grad_y\n",
    "\n",
    "\n",
    "  def interpolate(a0: float, a1: float, t: float) -> float:\n",
    "    # return (a1 - a0) * t + a0\n",
    "    # return (a1 - a0) * (3 - 2*t) * t * t + a0\n",
    "    return (a1 - a0) * ((t * (t * 6.0 - 15.0) + 10.0) * t * t * t) + a0\n",
    "\n",
    "  n0 = dot_grid_gradient(x0, y0, x, y, x0y0_grad_x, x0y0_grad_y)\n",
    "  n1 = dot_grid_gradient(x1, y0, x, y, x1y0_grad_x, x1y0_grad_y)\n",
    "  ix0 = interpolate(n0, n1, x-x0)\n",
    "\n",
    "  n0 = dot_grid_gradient(x0, y1, x, y, x0y1_grad_x, x0y1_grad_y)\n",
    "  n1 = dot_grid_gradient(x1, y1, x, y, x1y1_grad_x, x1y1_grad_y)\n",
    "  ix1 = interpolate(n0, n1, x-x0)\n",
    "\n",
    "  interpolated = interpolate(ix0, ix1, y-y0)\n",
    "\n",
    "  return interpolated * .5 + .5\n",
    "\n",
    "\n",
    "if __name__ == \"__main__\":\n",
    "  min_x = 0\n",
    "  max_x=1\n",
    "  min_y = 0\n",
    "  max_y=1\n",
    "  seed=0\n",
    "\n",
    "  width=64\n",
    "  height=64\n",
    "  x, y = sympy.symbols(\"x y\")\n",
    "  noise = noise2d(min_x, max_x, min_y, max_y, seed, x, y)\n",
    "  field = np.empty((width, height))\n",
    "  for v, u in tqdm(itertools.product(range(height), range(width)), leave=False, total=width*height):\n",
    "    field[v,u] = noise\\\n",
    "      .subs(x, u/(width-1) * (max_x-min_x) + min_x)\\\n",
    "      .subs(y, v/(height-1) * (max_y-min_y) + min_y)\n",
    "    \n",
    "  fig, ax = plt.subplots(figsize=(5, 5))\n",
    "\n",
    "  ax.imshow(field, cmap=\"gray\")\n"
   ]
  }
 ],
 "metadata": {
  "kernelspec": {
   "display_name": "Python 3",
   "language": "python",
   "name": "python3"
  },
  "language_info": {
   "codemirror_mode": {
    "name": "ipython",
    "version": 3
   },
   "file_extension": ".py",
   "mimetype": "text/x-python",
   "name": "python",
   "nbconvert_exporter": "python",
   "pygments_lexer": "ipython3",
   "version": "3.11.1"
  },
  "orig_nbformat": 4,
  "vscode": {
   "interpreter": {
    "hash": "ead1b95f633dc9c51826328e1846203f51a198c6fb5f2884a80417ba131d4e82"
   }
  }
 },
 "nbformat": 4,
 "nbformat_minor": 2
}
